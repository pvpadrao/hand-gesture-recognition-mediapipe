{
  "cells": [
    {
      "cell_type": "code",
      "execution_count": 23,
      "metadata": {
        "id": "igMyGnjE9hEp"
      },
      "outputs": [],
      "source": [
        "import csv\n",
        "\n",
        "import numpy as np\n",
        "import tensorflow as tf\n",
        "from sklearn.model_selection import train_test_split\n",
        "\n",
        "RANDOM_SEED = 42"
      ]
    },
    {
      "cell_type": "markdown",
      "metadata": {
        "id": "t2HDvhIu9hEr"
      },
      "source": [
        "# Specify each path"
      ]
    },
    {
      "cell_type": "code",
      "execution_count": 24,
      "metadata": {
        "id": "9NvZP2Zn9hEy"
      },
      "outputs": [],
      "source": [
        "dataset = 'model/keypoint_classifier/keypoint_v2.csv'\n",
        "model_save_path = 'model/keypoint_classifier/keypoint_classifier.hdf5'\n",
        "tflite_save_path = 'model/keypoint_classifier/keypoint_classifier.tflite'"
      ]
    },
    {
      "cell_type": "markdown",
      "metadata": {
        "id": "s5oMH7x19hEz"
      },
      "source": [
        "# Set number of classes"
      ]
    },
    {
      "cell_type": "code",
      "execution_count": 25,
      "metadata": {
        "id": "du4kodXL9hEz"
      },
      "outputs": [],
      "source": [
        "NUM_CLASSES = 2"
      ]
    },
    {
      "cell_type": "markdown",
      "metadata": {
        "id": "XjnL0uso9hEz"
      },
      "source": [
        "# Dataset reading"
      ]
    },
    {
      "cell_type": "code",
      "execution_count": 26,
      "metadata": {
        "id": "QT5ZqtEz9hE0"
      },
      "outputs": [],
      "source": [
        "X_dataset = np.loadtxt(dataset, delimiter=',', dtype='float32', usecols=list(range(1, (21 * 2) + 1)))"
      ]
    },
    {
      "cell_type": "code",
      "execution_count": 27,
      "metadata": {
        "id": "QmoKFsp49hE0"
      },
      "outputs": [],
      "source": [
        "y_dataset = np.loadtxt(dataset, delimiter=',', dtype='int32', usecols=(0))"
      ]
    },
    {
      "cell_type": "code",
      "execution_count": 28,
      "metadata": {
        "id": "xQU7JTZ_9hE0"
      },
      "outputs": [],
      "source": [
        "X_train, X_test, y_train, y_test = train_test_split(X_dataset, y_dataset, train_size=0.75, random_state=RANDOM_SEED)"
      ]
    },
    {
      "cell_type": "markdown",
      "metadata": {
        "id": "mxK_lETT9hE0"
      },
      "source": [
        "# Model building"
      ]
    },
    {
      "cell_type": "code",
      "execution_count": 29,
      "metadata": {
        "id": "vHBmUf1t9hE1"
      },
      "outputs": [],
      "source": [
        "model = tf.keras.models.Sequential([\n",
        "    tf.keras.layers.Input((21 * 2, )),\n",
        "    tf.keras.layers.Dropout(0.2),\n",
        "    tf.keras.layers.Dense(20, activation='relu'),\n",
        "    tf.keras.layers.Dropout(0.4),\n",
        "    tf.keras.layers.Dense(10, activation='relu'),\n",
        "    tf.keras.layers.Dense(NUM_CLASSES, activation='softmax')\n",
        "])"
      ]
    },
    {
      "cell_type": "code",
      "execution_count": 30,
      "metadata": {
        "colab": {
          "base_uri": "https://localhost:8080/"
        },
        "id": "ypqky9tc9hE1",
        "outputId": "5db082bb-30e3-4110-bf63-a1ee777ecd46"
      },
      "outputs": [
        {
          "name": "stdout",
          "output_type": "stream",
          "text": [
            "Model: \"sequential_2\"\n",
            "_________________________________________________________________\n",
            " Layer (type)                Output Shape              Param #   \n",
            "=================================================================\n",
            " dropout_4 (Dropout)         (None, 42)                0         \n",
            "                                                                 \n",
            " dense_6 (Dense)             (None, 20)                860       \n",
            "                                                                 \n",
            " dropout_5 (Dropout)         (None, 20)                0         \n",
            "                                                                 \n",
            " dense_7 (Dense)             (None, 10)                210       \n",
            "                                                                 \n",
            " dense_8 (Dense)             (None, 2)                 22        \n",
            "                                                                 \n",
            "=================================================================\n",
            "Total params: 1,092\n",
            "Trainable params: 1,092\n",
            "Non-trainable params: 0\n",
            "_________________________________________________________________\n"
          ]
        }
      ],
      "source": [
        "model.summary()  # tf.keras.utils.plot_model(model, show_shapes=True)"
      ]
    },
    {
      "cell_type": "code",
      "execution_count": 31,
      "metadata": {
        "id": "MbMjOflQ9hE1"
      },
      "outputs": [],
      "source": [
        "# Model checkpoint callback\n",
        "cp_callback = tf.keras.callbacks.ModelCheckpoint(\n",
        "    model_save_path, verbose=1, save_weights_only=False)\n",
        "# Callback for early stopping\n",
        "es_callback = tf.keras.callbacks.EarlyStopping(patience=20, verbose=1)"
      ]
    },
    {
      "cell_type": "code",
      "execution_count": 32,
      "metadata": {
        "id": "c3Dac0M_9hE2"
      },
      "outputs": [],
      "source": [
        "# Model compilation\n",
        "model.compile(\n",
        "    optimizer='adam',\n",
        "    loss='sparse_categorical_crossentropy',\n",
        "    metrics=['accuracy']\n",
        ")"
      ]
    },
    {
      "cell_type": "markdown",
      "metadata": {
        "id": "7XI0j1Iu9hE2"
      },
      "source": [
        "# Model training"
      ]
    },
    {
      "cell_type": "code",
      "execution_count": 33,
      "metadata": {
        "colab": {
          "base_uri": "https://localhost:8080/"
        },
        "id": "WirBl-JE9hE3",
        "outputId": "71b30ca2-8294-4d9d-8aa2-800d90d399de",
        "scrolled": true
      },
      "outputs": [
        {
          "name": "stdout",
          "output_type": "stream",
          "text": [
            "Epoch 1/1000\n",
            " 1/19 [>.............................] - ETA: 10s - loss: 0.7309 - accuracy: 0.5156\n",
            "Epoch 1: saving model to model/keypoint_classifier\\keypoint_classifier.hdf5\n",
            "19/19 [==============================] - 1s 28ms/step - loss: 0.7042 - accuracy: 0.5159 - val_loss: 0.6849 - val_accuracy: 0.5504\n",
            "Epoch 2/1000\n",
            " 1/19 [>.............................] - ETA: 0s - loss: 0.7085 - accuracy: 0.5156\n",
            "Epoch 2: saving model to model/keypoint_classifier\\keypoint_classifier.hdf5\n",
            "19/19 [==============================] - 0s 6ms/step - loss: 0.6736 - accuracy: 0.5746 - val_loss: 0.6668 - val_accuracy: 0.5724\n",
            "Epoch 3/1000\n",
            " 1/19 [>.............................] - ETA: 0s - loss: 0.6754 - accuracy: 0.6016\n",
            "Epoch 3: saving model to model/keypoint_classifier\\keypoint_classifier.hdf5\n",
            "19/19 [==============================] - 0s 9ms/step - loss: 0.6510 - accuracy: 0.6267 - val_loss: 0.6292 - val_accuracy: 0.7791\n",
            "Epoch 4/1000\n",
            "17/19 [=========================>....] - ETA: 0s - loss: 0.6171 - accuracy: 0.6847\n",
            "Epoch 4: saving model to model/keypoint_classifier\\keypoint_classifier.hdf5\n",
            "19/19 [==============================] - 0s 7ms/step - loss: 0.6166 - accuracy: 0.6836 - val_loss: 0.5759 - val_accuracy: 0.7972\n",
            "Epoch 5/1000\n",
            " 1/19 [>.............................] - ETA: 0s - loss: 0.6113 - accuracy: 0.6406\n",
            "Epoch 5: saving model to model/keypoint_classifier\\keypoint_classifier.hdf5\n",
            "19/19 [==============================] - 0s 6ms/step - loss: 0.5907 - accuracy: 0.6828 - val_loss: 0.5309 - val_accuracy: 0.8398\n",
            "Epoch 6/1000\n",
            " 1/19 [>.............................] - ETA: 0s - loss: 0.5966 - accuracy: 0.6328\n",
            "Epoch 6: saving model to model/keypoint_classifier\\keypoint_classifier.hdf5\n",
            "19/19 [==============================] - 0s 6ms/step - loss: 0.5527 - accuracy: 0.7358 - val_loss: 0.4848 - val_accuracy: 0.9121\n",
            "Epoch 7/1000\n",
            " 1/19 [>.............................] - ETA: 0s - loss: 0.5243 - accuracy: 0.7578\n",
            "Epoch 7: saving model to model/keypoint_classifier\\keypoint_classifier.hdf5\n",
            "19/19 [==============================] - 0s 7ms/step - loss: 0.5281 - accuracy: 0.7513 - val_loss: 0.4381 - val_accuracy: 0.9315\n",
            "Epoch 8/1000\n",
            "18/19 [===========================>..] - ETA: 0s - loss: 0.4943 - accuracy: 0.7756\n",
            "Epoch 8: saving model to model/keypoint_classifier\\keypoint_classifier.hdf5\n",
            "19/19 [==============================] - 0s 7ms/step - loss: 0.4947 - accuracy: 0.7746 - val_loss: 0.3888 - val_accuracy: 0.9302\n",
            "Epoch 9/1000\n",
            " 1/19 [>.............................] - ETA: 0s - loss: 0.5017 - accuracy: 0.7969\n",
            "Epoch 9: saving model to model/keypoint_classifier\\keypoint_classifier.hdf5\n",
            "19/19 [==============================] - 0s 6ms/step - loss: 0.4648 - accuracy: 0.7858 - val_loss: 0.3466 - val_accuracy: 0.9341\n",
            "Epoch 10/1000\n",
            " 1/19 [>.............................] - ETA: 0s - loss: 0.4245 - accuracy: 0.8125\n",
            "Epoch 10: saving model to model/keypoint_classifier\\keypoint_classifier.hdf5\n",
            "19/19 [==============================] - 0s 6ms/step - loss: 0.4351 - accuracy: 0.8108 - val_loss: 0.3143 - val_accuracy: 0.9406\n",
            "Epoch 11/1000\n",
            " 1/19 [>.............................] - ETA: 0s - loss: 0.3670 - accuracy: 0.8594\n",
            "Epoch 11: saving model to model/keypoint_classifier\\keypoint_classifier.hdf5\n",
            "19/19 [==============================] - 0s 5ms/step - loss: 0.4138 - accuracy: 0.8125 - val_loss: 0.2799 - val_accuracy: 0.9393\n",
            "Epoch 12/1000\n",
            " 1/19 [>.............................] - ETA: 0s - loss: 0.4055 - accuracy: 0.8125\n",
            "Epoch 12: saving model to model/keypoint_classifier\\keypoint_classifier.hdf5\n",
            "19/19 [==============================] - 0s 6ms/step - loss: 0.4050 - accuracy: 0.8224 - val_loss: 0.2609 - val_accuracy: 0.9380\n",
            "Epoch 13/1000\n",
            "18/19 [===========================>..] - ETA: 0s - loss: 0.3898 - accuracy: 0.8281\n",
            "Epoch 13: saving model to model/keypoint_classifier\\keypoint_classifier.hdf5\n",
            "19/19 [==============================] - 0s 7ms/step - loss: 0.3902 - accuracy: 0.8280 - val_loss: 0.2385 - val_accuracy: 0.9432\n",
            "Epoch 14/1000\n",
            " 1/19 [>.............................] - ETA: 0s - loss: 0.4273 - accuracy: 0.7578\n",
            "Epoch 14: saving model to model/keypoint_classifier\\keypoint_classifier.hdf5\n",
            "19/19 [==============================] - 0s 6ms/step - loss: 0.3710 - accuracy: 0.8293 - val_loss: 0.2210 - val_accuracy: 0.9380\n",
            "Epoch 15/1000\n",
            " 1/19 [>.............................] - ETA: 0s - loss: 0.3568 - accuracy: 0.8047\n",
            "Epoch 15: saving model to model/keypoint_classifier\\keypoint_classifier.hdf5\n",
            "19/19 [==============================] - 0s 6ms/step - loss: 0.3616 - accuracy: 0.8375 - val_loss: 0.2063 - val_accuracy: 0.9470\n",
            "Epoch 16/1000\n",
            " 1/19 [>.............................] - ETA: 0s - loss: 0.4189 - accuracy: 0.8203\n",
            "Epoch 16: saving model to model/keypoint_classifier\\keypoint_classifier.hdf5\n",
            "19/19 [==============================] - 0s 6ms/step - loss: 0.3497 - accuracy: 0.8582 - val_loss: 0.1922 - val_accuracy: 0.9522\n",
            "Epoch 17/1000\n",
            " 1/19 [>.............................] - ETA: 0s - loss: 0.3693 - accuracy: 0.8125\n",
            "Epoch 17: saving model to model/keypoint_classifier\\keypoint_classifier.hdf5\n",
            "19/19 [==============================] - 0s 7ms/step - loss: 0.3571 - accuracy: 0.8366 - val_loss: 0.1862 - val_accuracy: 0.9509\n",
            "Epoch 18/1000\n",
            " 1/19 [>.............................] - ETA: 0s - loss: 0.3333 - accuracy: 0.8594\n",
            "Epoch 18: saving model to model/keypoint_classifier\\keypoint_classifier.hdf5\n",
            "19/19 [==============================] - 0s 6ms/step - loss: 0.3251 - accuracy: 0.8603 - val_loss: 0.1776 - val_accuracy: 0.9509\n",
            "Epoch 19/1000\n",
            " 1/19 [>.............................] - ETA: 0s - loss: 0.3026 - accuracy: 0.8672\n",
            "Epoch 19: saving model to model/keypoint_classifier\\keypoint_classifier.hdf5\n",
            "19/19 [==============================] - 0s 6ms/step - loss: 0.3020 - accuracy: 0.8746 - val_loss: 0.1643 - val_accuracy: 0.9587\n",
            "Epoch 20/1000\n",
            "19/19 [==============================] - ETA: 0s - loss: 0.3058 - accuracy: 0.8703\n",
            "Epoch 20: saving model to model/keypoint_classifier\\keypoint_classifier.hdf5\n",
            "19/19 [==============================] - 0s 8ms/step - loss: 0.3058 - accuracy: 0.8703 - val_loss: 0.1557 - val_accuracy: 0.9587\n",
            "Epoch 21/1000\n",
            " 1/19 [>.............................] - ETA: 0s - loss: 0.2579 - accuracy: 0.8672\n",
            "Epoch 21: saving model to model/keypoint_classifier\\keypoint_classifier.hdf5\n",
            "19/19 [==============================] - 0s 6ms/step - loss: 0.3289 - accuracy: 0.8612 - val_loss: 0.1504 - val_accuracy: 0.9599\n",
            "Epoch 22/1000\n",
            " 1/19 [>.............................] - ETA: 0s - loss: 0.2679 - accuracy: 0.8906\n",
            "Epoch 22: saving model to model/keypoint_classifier\\keypoint_classifier.hdf5\n",
            "19/19 [==============================] - 0s 6ms/step - loss: 0.3224 - accuracy: 0.8569 - val_loss: 0.1488 - val_accuracy: 0.9638\n",
            "Epoch 23/1000\n",
            " 1/19 [>.............................] - ETA: 0s - loss: 0.3486 - accuracy: 0.8438\n",
            "Epoch 23: saving model to model/keypoint_classifier\\keypoint_classifier.hdf5\n",
            "19/19 [==============================] - 0s 5ms/step - loss: 0.3083 - accuracy: 0.8703 - val_loss: 0.1499 - val_accuracy: 0.9599\n",
            "Epoch 24/1000\n",
            " 1/19 [>.............................] - ETA: 0s - loss: 0.2815 - accuracy: 0.8984\n",
            "Epoch 24: saving model to model/keypoint_classifier\\keypoint_classifier.hdf5\n",
            "19/19 [==============================] - 0s 6ms/step - loss: 0.2925 - accuracy: 0.8810 - val_loss: 0.1464 - val_accuracy: 0.9587\n",
            "Epoch 25/1000\n",
            " 1/19 [>.............................] - ETA: 0s - loss: 0.2380 - accuracy: 0.8906\n",
            "Epoch 25: saving model to model/keypoint_classifier\\keypoint_classifier.hdf5\n",
            "19/19 [==============================] - 0s 5ms/step - loss: 0.2956 - accuracy: 0.8750 - val_loss: 0.1403 - val_accuracy: 0.9677\n",
            "Epoch 26/1000\n",
            " 1/19 [>.............................] - ETA: 0s - loss: 0.2656 - accuracy: 0.9141\n",
            "Epoch 26: saving model to model/keypoint_classifier\\keypoint_classifier.hdf5\n",
            "19/19 [==============================] - 0s 6ms/step - loss: 0.2803 - accuracy: 0.8845 - val_loss: 0.1366 - val_accuracy: 0.9677\n",
            "Epoch 27/1000\n",
            "16/19 [========================>.....] - ETA: 0s - loss: 0.2824 - accuracy: 0.8833\n",
            "Epoch 27: saving model to model/keypoint_classifier\\keypoint_classifier.hdf5\n",
            "19/19 [==============================] - 0s 7ms/step - loss: 0.2860 - accuracy: 0.8802 - val_loss: 0.1378 - val_accuracy: 0.9625\n",
            "Epoch 28/1000\n",
            " 1/19 [>.............................] - ETA: 0s - loss: 0.3412 - accuracy: 0.8516\n",
            "Epoch 28: saving model to model/keypoint_classifier\\keypoint_classifier.hdf5\n",
            "19/19 [==============================] - 0s 6ms/step - loss: 0.2808 - accuracy: 0.8819 - val_loss: 0.1313 - val_accuracy: 0.9703\n",
            "Epoch 29/1000\n",
            "14/19 [=====================>........] - ETA: 0s - loss: 0.2669 - accuracy: 0.8901\n",
            "Epoch 29: saving model to model/keypoint_classifier\\keypoint_classifier.hdf5\n",
            "19/19 [==============================] - 0s 9ms/step - loss: 0.2638 - accuracy: 0.8888 - val_loss: 0.1316 - val_accuracy: 0.9677\n",
            "Epoch 30/1000\n",
            "19/19 [==============================] - ETA: 0s - loss: 0.2709 - accuracy: 0.8862\n",
            "Epoch 30: saving model to model/keypoint_classifier\\keypoint_classifier.hdf5\n",
            "19/19 [==============================] - 0s 7ms/step - loss: 0.2709 - accuracy: 0.8862 - val_loss: 0.1294 - val_accuracy: 0.9677\n",
            "Epoch 31/1000\n",
            " 1/19 [>.............................] - ETA: 0s - loss: 0.1855 - accuracy: 0.9375\n",
            "Epoch 31: saving model to model/keypoint_classifier\\keypoint_classifier.hdf5\n",
            "19/19 [==============================] - 0s 6ms/step - loss: 0.2605 - accuracy: 0.8966 - val_loss: 0.1217 - val_accuracy: 0.9729\n",
            "Epoch 32/1000\n",
            "17/19 [=========================>....] - ETA: 0s - loss: 0.2695 - accuracy: 0.8934\n",
            "Epoch 32: saving model to model/keypoint_classifier\\keypoint_classifier.hdf5\n",
            "19/19 [==============================] - 0s 7ms/step - loss: 0.2661 - accuracy: 0.8953 - val_loss: 0.1201 - val_accuracy: 0.9729\n",
            "Epoch 33/1000\n",
            " 1/19 [>.............................] - ETA: 0s - loss: 0.2116 - accuracy: 0.9062\n",
            "Epoch 33: saving model to model/keypoint_classifier\\keypoint_classifier.hdf5\n",
            "19/19 [==============================] - 0s 7ms/step - loss: 0.2642 - accuracy: 0.8888 - val_loss: 0.1143 - val_accuracy: 0.9742\n",
            "Epoch 34/1000\n",
            "17/19 [=========================>....] - ETA: 0s - loss: 0.2545 - accuracy: 0.9017\n",
            "Epoch 34: saving model to model/keypoint_classifier\\keypoint_classifier.hdf5\n",
            "19/19 [==============================] - 0s 7ms/step - loss: 0.2520 - accuracy: 0.9039 - val_loss: 0.1180 - val_accuracy: 0.9716\n",
            "Epoch 35/1000\n",
            "19/19 [==============================] - ETA: 0s - loss: 0.2511 - accuracy: 0.8953\n",
            "Epoch 35: saving model to model/keypoint_classifier\\keypoint_classifier.hdf5\n",
            "19/19 [==============================] - 0s 7ms/step - loss: 0.2511 - accuracy: 0.8953 - val_loss: 0.1112 - val_accuracy: 0.9742\n",
            "Epoch 36/1000\n",
            " 1/19 [>.............................] - ETA: 0s - loss: 0.1896 - accuracy: 0.9141\n",
            "Epoch 36: saving model to model/keypoint_classifier\\keypoint_classifier.hdf5\n",
            "19/19 [==============================] - 0s 6ms/step - loss: 0.2527 - accuracy: 0.8978 - val_loss: 0.1111 - val_accuracy: 0.9742\n",
            "Epoch 37/1000\n",
            "18/19 [===========================>..] - ETA: 0s - loss: 0.2594 - accuracy: 0.8945\n",
            "Epoch 37: saving model to model/keypoint_classifier\\keypoint_classifier.hdf5\n",
            "19/19 [==============================] - 0s 7ms/step - loss: 0.2599 - accuracy: 0.8948 - val_loss: 0.1116 - val_accuracy: 0.9742\n",
            "Epoch 38/1000\n",
            "15/19 [======================>.......] - ETA: 0s - loss: 0.2537 - accuracy: 0.8865\n",
            "Epoch 38: saving model to model/keypoint_classifier\\keypoint_classifier.hdf5\n",
            "19/19 [==============================] - 0s 7ms/step - loss: 0.2557 - accuracy: 0.8866 - val_loss: 0.1132 - val_accuracy: 0.9742\n",
            "Epoch 39/1000\n",
            "18/19 [===========================>..] - ETA: 0s - loss: 0.2603 - accuracy: 0.8928\n",
            "Epoch 39: saving model to model/keypoint_classifier\\keypoint_classifier.hdf5\n",
            "19/19 [==============================] - 0s 7ms/step - loss: 0.2604 - accuracy: 0.8931 - val_loss: 0.1141 - val_accuracy: 0.9755\n",
            "Epoch 40/1000\n",
            "19/19 [==============================] - ETA: 0s - loss: 0.2645 - accuracy: 0.8935\n",
            "Epoch 40: saving model to model/keypoint_classifier\\keypoint_classifier.hdf5\n",
            "19/19 [==============================] - 0s 7ms/step - loss: 0.2645 - accuracy: 0.8935 - val_loss: 0.1139 - val_accuracy: 0.9755\n",
            "Epoch 41/1000\n",
            "19/19 [==============================] - ETA: 0s - loss: 0.2427 - accuracy: 0.9034\n",
            "Epoch 41: saving model to model/keypoint_classifier\\keypoint_classifier.hdf5\n",
            "19/19 [==============================] - 0s 7ms/step - loss: 0.2427 - accuracy: 0.9034 - val_loss: 0.1103 - val_accuracy: 0.9755\n",
            "Epoch 42/1000\n",
            " 1/19 [>.............................] - ETA: 0s - loss: 0.2183 - accuracy: 0.9219\n",
            "Epoch 42: saving model to model/keypoint_classifier\\keypoint_classifier.hdf5\n",
            "19/19 [==============================] - 0s 6ms/step - loss: 0.2346 - accuracy: 0.9047 - val_loss: 0.1050 - val_accuracy: 0.9755\n",
            "Epoch 43/1000\n",
            "17/19 [=========================>....] - ETA: 0s - loss: 0.2470 - accuracy: 0.8934\n",
            "Epoch 43: saving model to model/keypoint_classifier\\keypoint_classifier.hdf5\n",
            "19/19 [==============================] - 0s 7ms/step - loss: 0.2461 - accuracy: 0.8940 - val_loss: 0.1030 - val_accuracy: 0.9755\n",
            "Epoch 44/1000\n",
            "18/19 [===========================>..] - ETA: 0s - loss: 0.2480 - accuracy: 0.8915\n",
            "Epoch 44: saving model to model/keypoint_classifier\\keypoint_classifier.hdf5\n",
            "19/19 [==============================] - 0s 8ms/step - loss: 0.2469 - accuracy: 0.8922 - val_loss: 0.1048 - val_accuracy: 0.9742\n",
            "Epoch 45/1000\n",
            " 1/19 [>.............................] - ETA: 0s - loss: 0.2120 - accuracy: 0.8828\n",
            "Epoch 45: saving model to model/keypoint_classifier\\keypoint_classifier.hdf5\n",
            "19/19 [==============================] - 0s 7ms/step - loss: 0.2399 - accuracy: 0.9060 - val_loss: 0.1061 - val_accuracy: 0.9755\n",
            "Epoch 46/1000\n",
            " 1/19 [>.............................] - ETA: 0s - loss: 0.2904 - accuracy: 0.8906\n",
            "Epoch 46: saving model to model/keypoint_classifier\\keypoint_classifier.hdf5\n",
            "19/19 [==============================] - 0s 8ms/step - loss: 0.2407 - accuracy: 0.9017 - val_loss: 0.1046 - val_accuracy: 0.9780\n",
            "Epoch 47/1000\n",
            "16/19 [========================>.....] - ETA: 0s - loss: 0.2315 - accuracy: 0.9092\n",
            "Epoch 47: saving model to model/keypoint_classifier\\keypoint_classifier.hdf5\n",
            "19/19 [==============================] - 0s 8ms/step - loss: 0.2334 - accuracy: 0.9086 - val_loss: 0.0962 - val_accuracy: 0.9806\n",
            "Epoch 48/1000\n",
            "19/19 [==============================] - ETA: 0s - loss: 0.2315 - accuracy: 0.9060\n",
            "Epoch 48: saving model to model/keypoint_classifier\\keypoint_classifier.hdf5\n",
            "19/19 [==============================] - 0s 7ms/step - loss: 0.2315 - accuracy: 0.9060 - val_loss: 0.1013 - val_accuracy: 0.9819\n",
            "Epoch 49/1000\n",
            "19/19 [==============================] - ETA: 0s - loss: 0.2390 - accuracy: 0.9086\n",
            "Epoch 49: saving model to model/keypoint_classifier\\keypoint_classifier.hdf5\n",
            "19/19 [==============================] - 0s 7ms/step - loss: 0.2390 - accuracy: 0.9086 - val_loss: 0.0985 - val_accuracy: 0.9806\n",
            "Epoch 50/1000\n",
            "18/19 [===========================>..] - ETA: 0s - loss: 0.2341 - accuracy: 0.9080\n",
            "Epoch 50: saving model to model/keypoint_classifier\\keypoint_classifier.hdf5\n",
            "19/19 [==============================] - 0s 7ms/step - loss: 0.2329 - accuracy: 0.9086 - val_loss: 0.0975 - val_accuracy: 0.9806\n",
            "Epoch 51/1000\n",
            "18/19 [===========================>..] - ETA: 0s - loss: 0.2273 - accuracy: 0.9084\n",
            "Epoch 51: saving model to model/keypoint_classifier\\keypoint_classifier.hdf5\n",
            "19/19 [==============================] - 0s 7ms/step - loss: 0.2271 - accuracy: 0.9086 - val_loss: 0.0929 - val_accuracy: 0.9819\n",
            "Epoch 52/1000\n",
            " 1/19 [>.............................] - ETA: 0s - loss: 0.2179 - accuracy: 0.8906\n",
            "Epoch 52: saving model to model/keypoint_classifier\\keypoint_classifier.hdf5\n",
            "19/19 [==============================] - 0s 7ms/step - loss: 0.2198 - accuracy: 0.9047 - val_loss: 0.0915 - val_accuracy: 0.9832\n",
            "Epoch 53/1000\n",
            " 1/19 [>.............................] - ETA: 0s - loss: 0.2352 - accuracy: 0.9141\n",
            "Epoch 53: saving model to model/keypoint_classifier\\keypoint_classifier.hdf5\n",
            "19/19 [==============================] - 0s 7ms/step - loss: 0.2405 - accuracy: 0.8996 - val_loss: 0.0890 - val_accuracy: 0.9832\n",
            "Epoch 54/1000\n",
            "18/19 [===========================>..] - ETA: 0s - loss: 0.2380 - accuracy: 0.9028\n",
            "Epoch 54: saving model to model/keypoint_classifier\\keypoint_classifier.hdf5\n",
            "19/19 [==============================] - 0s 10ms/step - loss: 0.2369 - accuracy: 0.9034 - val_loss: 0.0939 - val_accuracy: 0.9806\n",
            "Epoch 55/1000\n",
            " 1/19 [>.............................] - ETA: 0s - loss: 0.1833 - accuracy: 0.9219\n",
            "Epoch 55: saving model to model/keypoint_classifier\\keypoint_classifier.hdf5\n",
            "19/19 [==============================] - 0s 6ms/step - loss: 0.2298 - accuracy: 0.9116 - val_loss: 0.0916 - val_accuracy: 0.9832\n",
            "Epoch 56/1000\n",
            "19/19 [==============================] - ETA: 0s - loss: 0.2214 - accuracy: 0.9082\n",
            "Epoch 56: saving model to model/keypoint_classifier\\keypoint_classifier.hdf5\n",
            "19/19 [==============================] - 0s 7ms/step - loss: 0.2214 - accuracy: 0.9082 - val_loss: 0.0887 - val_accuracy: 0.9806\n",
            "Epoch 57/1000\n",
            " 1/19 [>.............................] - ETA: 0s - loss: 0.1980 - accuracy: 0.9375\n",
            "Epoch 57: saving model to model/keypoint_classifier\\keypoint_classifier.hdf5\n",
            "19/19 [==============================] - 0s 6ms/step - loss: 0.2135 - accuracy: 0.9091 - val_loss: 0.0914 - val_accuracy: 0.9819\n",
            "Epoch 58/1000\n",
            "18/19 [===========================>..] - ETA: 0s - loss: 0.2160 - accuracy: 0.9110\n",
            "Epoch 58: saving model to model/keypoint_classifier\\keypoint_classifier.hdf5\n",
            "19/19 [==============================] - 0s 7ms/step - loss: 0.2176 - accuracy: 0.9095 - val_loss: 0.0926 - val_accuracy: 0.9780\n",
            "Epoch 59/1000\n",
            "19/19 [==============================] - ETA: 0s - loss: 0.2103 - accuracy: 0.9129\n",
            "Epoch 59: saving model to model/keypoint_classifier\\keypoint_classifier.hdf5\n",
            "19/19 [==============================] - 0s 7ms/step - loss: 0.2103 - accuracy: 0.9129 - val_loss: 0.0870 - val_accuracy: 0.9793\n",
            "Epoch 60/1000\n",
            "19/19 [==============================] - ETA: 0s - loss: 0.2161 - accuracy: 0.9121\n",
            "Epoch 60: saving model to model/keypoint_classifier\\keypoint_classifier.hdf5\n",
            "19/19 [==============================] - 0s 7ms/step - loss: 0.2161 - accuracy: 0.9121 - val_loss: 0.0893 - val_accuracy: 0.9780\n",
            "Epoch 61/1000\n",
            "19/19 [==============================] - ETA: 0s - loss: 0.2080 - accuracy: 0.9181\n",
            "Epoch 61: saving model to model/keypoint_classifier\\keypoint_classifier.hdf5\n",
            "19/19 [==============================] - 0s 8ms/step - loss: 0.2080 - accuracy: 0.9181 - val_loss: 0.0893 - val_accuracy: 0.9780\n",
            "Epoch 62/1000\n",
            " 1/19 [>.............................] - ETA: 0s - loss: 0.2260 - accuracy: 0.9141\n",
            "Epoch 62: saving model to model/keypoint_classifier\\keypoint_classifier.hdf5\n",
            "19/19 [==============================] - 0s 7ms/step - loss: 0.2181 - accuracy: 0.9095 - val_loss: 0.0911 - val_accuracy: 0.9780\n",
            "Epoch 63/1000\n",
            " 1/19 [>.............................] - ETA: 0s - loss: 0.2430 - accuracy: 0.8828\n",
            "Epoch 63: saving model to model/keypoint_classifier\\keypoint_classifier.hdf5\n",
            "19/19 [==============================] - 0s 6ms/step - loss: 0.2212 - accuracy: 0.9129 - val_loss: 0.0921 - val_accuracy: 0.9767\n",
            "Epoch 64/1000\n",
            " 1/19 [>.............................] - ETA: 0s - loss: 0.2418 - accuracy: 0.8984\n",
            "Epoch 64: saving model to model/keypoint_classifier\\keypoint_classifier.hdf5\n",
            "19/19 [==============================] - 0s 7ms/step - loss: 0.2257 - accuracy: 0.9125 - val_loss: 0.0917 - val_accuracy: 0.9806\n",
            "Epoch 65/1000\n",
            " 1/19 [>.............................] - ETA: 0s - loss: 0.2316 - accuracy: 0.8906\n",
            "Epoch 65: saving model to model/keypoint_classifier\\keypoint_classifier.hdf5\n",
            "19/19 [==============================] - 0s 5ms/step - loss: 0.2033 - accuracy: 0.9129 - val_loss: 0.0906 - val_accuracy: 0.9780\n",
            "Epoch 66/1000\n",
            " 1/19 [>.............................] - ETA: 0s - loss: 0.1673 - accuracy: 0.9375\n",
            "Epoch 66: saving model to model/keypoint_classifier\\keypoint_classifier.hdf5\n",
            "19/19 [==============================] - 0s 6ms/step - loss: 0.1972 - accuracy: 0.9198 - val_loss: 0.0885 - val_accuracy: 0.9780\n",
            "Epoch 67/1000\n",
            " 1/19 [>.............................] - ETA: 0s - loss: 0.1752 - accuracy: 0.9141\n",
            "Epoch 67: saving model to model/keypoint_classifier\\keypoint_classifier.hdf5\n",
            "19/19 [==============================] - 0s 6ms/step - loss: 0.2208 - accuracy: 0.9086 - val_loss: 0.0861 - val_accuracy: 0.9806\n",
            "Epoch 68/1000\n",
            " 1/19 [>.............................] - ETA: 0s - loss: 0.1783 - accuracy: 0.9375\n",
            "Epoch 68: saving model to model/keypoint_classifier\\keypoint_classifier.hdf5\n",
            "19/19 [==============================] - 0s 6ms/step - loss: 0.2037 - accuracy: 0.9138 - val_loss: 0.0838 - val_accuracy: 0.9819\n",
            "Epoch 69/1000\n",
            " 1/19 [>.............................] - ETA: 0s - loss: 0.1968 - accuracy: 0.9219\n",
            "Epoch 69: saving model to model/keypoint_classifier\\keypoint_classifier.hdf5\n",
            "19/19 [==============================] - 0s 8ms/step - loss: 0.2037 - accuracy: 0.9216 - val_loss: 0.0876 - val_accuracy: 0.9819\n",
            "Epoch 70/1000\n",
            " 1/19 [>.............................] - ETA: 0s - loss: 0.2084 - accuracy: 0.9375\n",
            "Epoch 70: saving model to model/keypoint_classifier\\keypoint_classifier.hdf5\n",
            "19/19 [==============================] - 0s 7ms/step - loss: 0.2057 - accuracy: 0.9147 - val_loss: 0.0844 - val_accuracy: 0.9832\n",
            "Epoch 71/1000\n",
            " 1/19 [>.............................] - ETA: 0s - loss: 0.1467 - accuracy: 0.9531\n",
            "Epoch 71: saving model to model/keypoint_classifier\\keypoint_classifier.hdf5\n",
            "19/19 [==============================] - 0s 6ms/step - loss: 0.2035 - accuracy: 0.9142 - val_loss: 0.0897 - val_accuracy: 0.9742\n",
            "Epoch 72/1000\n",
            " 1/19 [>.............................] - ETA: 0s - loss: 0.2202 - accuracy: 0.8906\n",
            "Epoch 72: saving model to model/keypoint_classifier\\keypoint_classifier.hdf5\n",
            "19/19 [==============================] - 0s 6ms/step - loss: 0.2212 - accuracy: 0.9121 - val_loss: 0.0855 - val_accuracy: 0.9780\n",
            "Epoch 73/1000\n",
            "17/19 [=========================>....] - ETA: 0s - loss: 0.1941 - accuracy: 0.9311\n",
            "Epoch 73: saving model to model/keypoint_classifier\\keypoint_classifier.hdf5\n",
            "19/19 [==============================] - 0s 7ms/step - loss: 0.1953 - accuracy: 0.9280 - val_loss: 0.0864 - val_accuracy: 0.9767\n",
            "Epoch 74/1000\n",
            " 1/19 [>.............................] - ETA: 0s - loss: 0.1986 - accuracy: 0.9141\n",
            "Epoch 74: saving model to model/keypoint_classifier\\keypoint_classifier.hdf5\n",
            "19/19 [==============================] - 0s 5ms/step - loss: 0.2137 - accuracy: 0.9116 - val_loss: 0.0858 - val_accuracy: 0.9832\n",
            "Epoch 75/1000\n",
            " 1/19 [>.............................] - ETA: 0s - loss: 0.2462 - accuracy: 0.9141\n",
            "Epoch 75: saving model to model/keypoint_classifier\\keypoint_classifier.hdf5\n",
            "19/19 [==============================] - 0s 5ms/step - loss: 0.1905 - accuracy: 0.9216 - val_loss: 0.0851 - val_accuracy: 0.9819\n",
            "Epoch 76/1000\n",
            " 1/19 [>.............................] - ETA: 0s - loss: 0.2344 - accuracy: 0.8984\n",
            "Epoch 76: saving model to model/keypoint_classifier\\keypoint_classifier.hdf5\n",
            "19/19 [==============================] - 0s 5ms/step - loss: 0.2078 - accuracy: 0.9181 - val_loss: 0.0816 - val_accuracy: 0.9845\n",
            "Epoch 77/1000\n",
            " 1/19 [>.............................] - ETA: 0s - loss: 0.1649 - accuracy: 0.9375\n",
            "Epoch 77: saving model to model/keypoint_classifier\\keypoint_classifier.hdf5\n",
            "19/19 [==============================] - 0s 6ms/step - loss: 0.1943 - accuracy: 0.9216 - val_loss: 0.0778 - val_accuracy: 0.9845\n",
            "Epoch 78/1000\n",
            " 1/19 [>.............................] - ETA: 0s - loss: 0.2019 - accuracy: 0.9141\n",
            "Epoch 78: saving model to model/keypoint_classifier\\keypoint_classifier.hdf5\n",
            "19/19 [==============================] - 0s 5ms/step - loss: 0.1936 - accuracy: 0.9250 - val_loss: 0.0800 - val_accuracy: 0.9858\n",
            "Epoch 79/1000\n",
            " 1/19 [>.............................] - ETA: 0s - loss: 0.2255 - accuracy: 0.8984\n",
            "Epoch 79: saving model to model/keypoint_classifier\\keypoint_classifier.hdf5\n",
            "19/19 [==============================] - 0s 6ms/step - loss: 0.1968 - accuracy: 0.9211 - val_loss: 0.0770 - val_accuracy: 0.9884\n",
            "Epoch 80/1000\n",
            " 1/19 [>.............................] - ETA: 0s - loss: 0.1440 - accuracy: 0.9453\n",
            "Epoch 80: saving model to model/keypoint_classifier\\keypoint_classifier.hdf5\n",
            "19/19 [==============================] - 0s 5ms/step - loss: 0.1890 - accuracy: 0.9233 - val_loss: 0.0767 - val_accuracy: 0.9884\n",
            "Epoch 81/1000\n",
            " 1/19 [>.............................] - ETA: 0s - loss: 0.2911 - accuracy: 0.8750\n",
            "Epoch 81: saving model to model/keypoint_classifier\\keypoint_classifier.hdf5\n",
            "19/19 [==============================] - 0s 5ms/step - loss: 0.2003 - accuracy: 0.9198 - val_loss: 0.0790 - val_accuracy: 0.9845\n",
            "Epoch 82/1000\n",
            " 1/19 [>.............................] - ETA: 0s - loss: 0.2437 - accuracy: 0.9062\n",
            "Epoch 82: saving model to model/keypoint_classifier\\keypoint_classifier.hdf5\n",
            "19/19 [==============================] - 0s 9ms/step - loss: 0.1949 - accuracy: 0.9194 - val_loss: 0.0771 - val_accuracy: 0.9806\n",
            "Epoch 83/1000\n",
            "19/19 [==============================] - ETA: 0s - loss: 0.1937 - accuracy: 0.9172\n",
            "Epoch 83: saving model to model/keypoint_classifier\\keypoint_classifier.hdf5\n",
            "19/19 [==============================] - 0s 8ms/step - loss: 0.1937 - accuracy: 0.9172 - val_loss: 0.0847 - val_accuracy: 0.9819\n",
            "Epoch 84/1000\n",
            "17/19 [=========================>....] - ETA: 0s - loss: 0.2019 - accuracy: 0.9223\n",
            "Epoch 84: saving model to model/keypoint_classifier\\keypoint_classifier.hdf5\n",
            "19/19 [==============================] - 0s 7ms/step - loss: 0.2038 - accuracy: 0.9211 - val_loss: 0.0812 - val_accuracy: 0.9858\n",
            "Epoch 85/1000\n",
            " 1/19 [>.............................] - ETA: 0s - loss: 0.1152 - accuracy: 0.9609\n",
            "Epoch 85: saving model to model/keypoint_classifier\\keypoint_classifier.hdf5\n",
            "19/19 [==============================] - 0s 6ms/step - loss: 0.1876 - accuracy: 0.9284 - val_loss: 0.0783 - val_accuracy: 0.9871\n",
            "Epoch 86/1000\n",
            " 1/19 [>.............................] - ETA: 0s - loss: 0.2264 - accuracy: 0.9375\n",
            "Epoch 86: saving model to model/keypoint_classifier\\keypoint_classifier.hdf5\n",
            "19/19 [==============================] - 0s 6ms/step - loss: 0.1893 - accuracy: 0.9228 - val_loss: 0.0799 - val_accuracy: 0.9884\n",
            "Epoch 87/1000\n",
            "19/19 [==============================] - ETA: 0s - loss: 0.1843 - accuracy: 0.9284\n",
            "Epoch 87: saving model to model/keypoint_classifier\\keypoint_classifier.hdf5\n",
            "19/19 [==============================] - 0s 7ms/step - loss: 0.1843 - accuracy: 0.9284 - val_loss: 0.0796 - val_accuracy: 0.9832\n",
            "Epoch 88/1000\n",
            "16/19 [========================>.....] - ETA: 0s - loss: 0.1896 - accuracy: 0.9272\n",
            "Epoch 88: saving model to model/keypoint_classifier\\keypoint_classifier.hdf5\n",
            "19/19 [==============================] - 0s 8ms/step - loss: 0.1905 - accuracy: 0.9272 - val_loss: 0.0772 - val_accuracy: 0.9871\n",
            "Epoch 89/1000\n",
            "19/19 [==============================] - ETA: 0s - loss: 0.2139 - accuracy: 0.9129\n",
            "Epoch 89: saving model to model/keypoint_classifier\\keypoint_classifier.hdf5\n",
            "19/19 [==============================] - 0s 7ms/step - loss: 0.2139 - accuracy: 0.9129 - val_loss: 0.0762 - val_accuracy: 0.9871\n",
            "Epoch 90/1000\n",
            "18/19 [===========================>..] - ETA: 0s - loss: 0.1940 - accuracy: 0.9249\n",
            "Epoch 90: saving model to model/keypoint_classifier\\keypoint_classifier.hdf5\n",
            "19/19 [==============================] - 0s 8ms/step - loss: 0.1935 - accuracy: 0.9254 - val_loss: 0.0850 - val_accuracy: 0.9793\n",
            "Epoch 91/1000\n",
            " 1/19 [>.............................] - ETA: 0s - loss: 0.2092 - accuracy: 0.9453\n",
            "Epoch 91: saving model to model/keypoint_classifier\\keypoint_classifier.hdf5\n",
            "19/19 [==============================] - 0s 6ms/step - loss: 0.1877 - accuracy: 0.9233 - val_loss: 0.0795 - val_accuracy: 0.9884\n",
            "Epoch 92/1000\n",
            " 1/19 [>.............................] - ETA: 0s - loss: 0.2227 - accuracy: 0.9062\n",
            "Epoch 92: saving model to model/keypoint_classifier\\keypoint_classifier.hdf5\n",
            "19/19 [==============================] - 0s 6ms/step - loss: 0.1922 - accuracy: 0.9228 - val_loss: 0.0758 - val_accuracy: 0.9884\n",
            "Epoch 93/1000\n",
            "16/19 [========================>.....] - ETA: 0s - loss: 0.1961 - accuracy: 0.9229\n",
            "Epoch 93: saving model to model/keypoint_classifier\\keypoint_classifier.hdf5\n",
            "19/19 [==============================] - 0s 8ms/step - loss: 0.1942 - accuracy: 0.9250 - val_loss: 0.0790 - val_accuracy: 0.9871\n",
            "Epoch 94/1000\n",
            "18/19 [===========================>..] - ETA: 0s - loss: 0.1977 - accuracy: 0.9197\n",
            "Epoch 94: saving model to model/keypoint_classifier\\keypoint_classifier.hdf5\n",
            "19/19 [==============================] - 0s 7ms/step - loss: 0.1982 - accuracy: 0.9194 - val_loss: 0.0780 - val_accuracy: 0.9871\n",
            "Epoch 95/1000\n",
            "18/19 [===========================>..] - ETA: 0s - loss: 0.1935 - accuracy: 0.9219\n",
            "Epoch 95: saving model to model/keypoint_classifier\\keypoint_classifier.hdf5\n",
            "19/19 [==============================] - 0s 10ms/step - loss: 0.1932 - accuracy: 0.9220 - val_loss: 0.0788 - val_accuracy: 0.9858\n",
            "Epoch 96/1000\n",
            " 1/19 [>.............................] - ETA: 0s - loss: 0.2748 - accuracy: 0.8828\n",
            "Epoch 96: saving model to model/keypoint_classifier\\keypoint_classifier.hdf5\n",
            "19/19 [==============================] - 0s 6ms/step - loss: 0.1735 - accuracy: 0.9306 - val_loss: 0.0753 - val_accuracy: 0.9845\n",
            "Epoch 97/1000\n",
            "19/19 [==============================] - ETA: 0s - loss: 0.1980 - accuracy: 0.9194\n",
            "Epoch 97: saving model to model/keypoint_classifier\\keypoint_classifier.hdf5\n",
            "19/19 [==============================] - 0s 7ms/step - loss: 0.1980 - accuracy: 0.9194 - val_loss: 0.0764 - val_accuracy: 0.9858\n",
            "Epoch 98/1000\n",
            " 1/19 [>.............................] - ETA: 0s - loss: 0.1949 - accuracy: 0.9141\n",
            "Epoch 98: saving model to model/keypoint_classifier\\keypoint_classifier.hdf5\n",
            "19/19 [==============================] - 0s 7ms/step - loss: 0.1914 - accuracy: 0.9241 - val_loss: 0.0799 - val_accuracy: 0.9871\n",
            "Epoch 99/1000\n",
            "19/19 [==============================] - ETA: 0s - loss: 0.1995 - accuracy: 0.9216\n",
            "Epoch 99: saving model to model/keypoint_classifier\\keypoint_classifier.hdf5\n",
            "19/19 [==============================] - 0s 7ms/step - loss: 0.1995 - accuracy: 0.9216 - val_loss: 0.0793 - val_accuracy: 0.9884\n",
            "Epoch 100/1000\n",
            "19/19 [==============================] - ETA: 0s - loss: 0.1891 - accuracy: 0.9233\n",
            "Epoch 100: saving model to model/keypoint_classifier\\keypoint_classifier.hdf5\n",
            "19/19 [==============================] - 0s 7ms/step - loss: 0.1891 - accuracy: 0.9233 - val_loss: 0.0801 - val_accuracy: 0.9871\n",
            "Epoch 101/1000\n",
            " 1/19 [>.............................] - ETA: 0s - loss: 0.1728 - accuracy: 0.9297\n",
            "Epoch 101: saving model to model/keypoint_classifier\\keypoint_classifier.hdf5\n",
            "19/19 [==============================] - 0s 6ms/step - loss: 0.1813 - accuracy: 0.9280 - val_loss: 0.0797 - val_accuracy: 0.9871\n",
            "Epoch 102/1000\n",
            "18/19 [===========================>..] - ETA: 0s - loss: 0.1665 - accuracy: 0.9349\n",
            "Epoch 102: saving model to model/keypoint_classifier\\keypoint_classifier.hdf5\n",
            "19/19 [==============================] - 0s 7ms/step - loss: 0.1662 - accuracy: 0.9345 - val_loss: 0.0799 - val_accuracy: 0.9845\n",
            "Epoch 103/1000\n",
            " 1/19 [>.............................] - ETA: 0s - loss: 0.1398 - accuracy: 0.9531\n",
            "Epoch 103: saving model to model/keypoint_classifier\\keypoint_classifier.hdf5\n",
            "19/19 [==============================] - 0s 7ms/step - loss: 0.1743 - accuracy: 0.9302 - val_loss: 0.0726 - val_accuracy: 0.9858\n",
            "Epoch 104/1000\n",
            " 1/19 [>.............................] - ETA: 0s - loss: 0.1463 - accuracy: 0.9453\n",
            "Epoch 104: saving model to model/keypoint_classifier\\keypoint_classifier.hdf5\n",
            "19/19 [==============================] - 0s 7ms/step - loss: 0.1910 - accuracy: 0.9216 - val_loss: 0.0761 - val_accuracy: 0.9871\n",
            "Epoch 105/1000\n",
            " 1/19 [>.............................] - ETA: 0s - loss: 0.1292 - accuracy: 0.9297\n",
            "Epoch 105: saving model to model/keypoint_classifier\\keypoint_classifier.hdf5\n",
            "19/19 [==============================] - 0s 7ms/step - loss: 0.1672 - accuracy: 0.9280 - val_loss: 0.0746 - val_accuracy: 0.9871\n",
            "Epoch 106/1000\n",
            "12/19 [=================>............] - ETA: 0s - loss: 0.1663 - accuracy: 0.9349\n",
            "Epoch 106: saving model to model/keypoint_classifier\\keypoint_classifier.hdf5\n",
            "19/19 [==============================] - 0s 9ms/step - loss: 0.1737 - accuracy: 0.9332 - val_loss: 0.0728 - val_accuracy: 0.9858\n",
            "Epoch 107/1000\n",
            "16/19 [========================>.....] - ETA: 0s - loss: 0.1648 - accuracy: 0.9287\n",
            "Epoch 107: saving model to model/keypoint_classifier\\keypoint_classifier.hdf5\n",
            "19/19 [==============================] - 0s 8ms/step - loss: 0.1729 - accuracy: 0.9263 - val_loss: 0.0728 - val_accuracy: 0.9858\n",
            "Epoch 108/1000\n",
            "17/19 [=========================>....] - ETA: 0s - loss: 0.1769 - accuracy: 0.9292\n",
            "Epoch 108: saving model to model/keypoint_classifier\\keypoint_classifier.hdf5\n",
            "19/19 [==============================] - 0s 11ms/step - loss: 0.1778 - accuracy: 0.9293 - val_loss: 0.0752 - val_accuracy: 0.9858\n",
            "Epoch 109/1000\n",
            " 1/19 [>.............................] - ETA: 0s - loss: 0.1270 - accuracy: 0.9531\n",
            "Epoch 109: saving model to model/keypoint_classifier\\keypoint_classifier.hdf5\n",
            "19/19 [==============================] - 0s 7ms/step - loss: 0.1660 - accuracy: 0.9345 - val_loss: 0.0725 - val_accuracy: 0.9845\n",
            "Epoch 110/1000\n",
            "17/19 [=========================>....] - ETA: 0s - loss: 0.1717 - accuracy: 0.9283\n",
            "Epoch 110: saving model to model/keypoint_classifier\\keypoint_classifier.hdf5\n",
            "19/19 [==============================] - 0s 7ms/step - loss: 0.1744 - accuracy: 0.9284 - val_loss: 0.0707 - val_accuracy: 0.9871\n",
            "Epoch 111/1000\n",
            " 1/19 [>.............................] - ETA: 0s - loss: 0.1650 - accuracy: 0.9219\n",
            "Epoch 111: saving model to model/keypoint_classifier\\keypoint_classifier.hdf5\n",
            "19/19 [==============================] - 0s 7ms/step - loss: 0.1715 - accuracy: 0.9310 - val_loss: 0.0693 - val_accuracy: 0.9871\n",
            "Epoch 112/1000\n",
            "18/19 [===========================>..] - ETA: 0s - loss: 0.1711 - accuracy: 0.9345\n",
            "Epoch 112: saving model to model/keypoint_classifier\\keypoint_classifier.hdf5\n",
            "19/19 [==============================] - 0s 8ms/step - loss: 0.1704 - accuracy: 0.9349 - val_loss: 0.0686 - val_accuracy: 0.9858\n",
            "Epoch 113/1000\n",
            " 1/19 [>.............................] - ETA: 0s - loss: 0.1914 - accuracy: 0.9375\n",
            "Epoch 113: saving model to model/keypoint_classifier\\keypoint_classifier.hdf5\n",
            "19/19 [==============================] - 0s 7ms/step - loss: 0.1881 - accuracy: 0.9250 - val_loss: 0.0678 - val_accuracy: 0.9858\n",
            "Epoch 114/1000\n",
            " 1/19 [>.............................] - ETA: 0s - loss: 0.1581 - accuracy: 0.9453\n",
            "Epoch 114: saving model to model/keypoint_classifier\\keypoint_classifier.hdf5\n",
            "19/19 [==============================] - 0s 7ms/step - loss: 0.1628 - accuracy: 0.9323 - val_loss: 0.0715 - val_accuracy: 0.9858\n",
            "Epoch 115/1000\n",
            "18/19 [===========================>..] - ETA: 0s - loss: 0.1803 - accuracy: 0.9358\n",
            "Epoch 115: saving model to model/keypoint_classifier\\keypoint_classifier.hdf5\n",
            "19/19 [==============================] - 0s 7ms/step - loss: 0.1793 - accuracy: 0.9362 - val_loss: 0.0724 - val_accuracy: 0.9858\n",
            "Epoch 116/1000\n",
            "18/19 [===========================>..] - ETA: 0s - loss: 0.1721 - accuracy: 0.9288\n",
            "Epoch 116: saving model to model/keypoint_classifier\\keypoint_classifier.hdf5\n",
            "19/19 [==============================] - 0s 7ms/step - loss: 0.1743 - accuracy: 0.9289 - val_loss: 0.0732 - val_accuracy: 0.9858\n",
            "Epoch 117/1000\n",
            "18/19 [===========================>..] - ETA: 0s - loss: 0.1867 - accuracy: 0.9288\n",
            "Epoch 117: saving model to model/keypoint_classifier\\keypoint_classifier.hdf5\n",
            "19/19 [==============================] - 0s 7ms/step - loss: 0.1862 - accuracy: 0.9289 - val_loss: 0.0702 - val_accuracy: 0.9871\n",
            "Epoch 118/1000\n",
            "18/19 [===========================>..] - ETA: 0s - loss: 0.1951 - accuracy: 0.9223\n",
            "Epoch 118: saving model to model/keypoint_classifier\\keypoint_classifier.hdf5\n",
            "19/19 [==============================] - 0s 7ms/step - loss: 0.1959 - accuracy: 0.9224 - val_loss: 0.0703 - val_accuracy: 0.9858\n",
            "Epoch 119/1000\n",
            "18/19 [===========================>..] - ETA: 0s - loss: 0.1766 - accuracy: 0.9327\n",
            "Epoch 119: saving model to model/keypoint_classifier\\keypoint_classifier.hdf5\n",
            "19/19 [==============================] - 0s 8ms/step - loss: 0.1768 - accuracy: 0.9328 - val_loss: 0.0693 - val_accuracy: 0.9871\n",
            "Epoch 120/1000\n",
            " 1/19 [>.............................] - ETA: 0s - loss: 0.1409 - accuracy: 0.9609\n",
            "Epoch 120: saving model to model/keypoint_classifier\\keypoint_classifier.hdf5\n",
            "19/19 [==============================] - 0s 6ms/step - loss: 0.1780 - accuracy: 0.9293 - val_loss: 0.0711 - val_accuracy: 0.9884\n",
            "Epoch 121/1000\n",
            "18/19 [===========================>..] - ETA: 0s - loss: 0.1706 - accuracy: 0.9362\n",
            "Epoch 121: saving model to model/keypoint_classifier\\keypoint_classifier.hdf5\n",
            "19/19 [==============================] - 0s 7ms/step - loss: 0.1738 - accuracy: 0.9353 - val_loss: 0.0695 - val_accuracy: 0.9884\n",
            "Epoch 122/1000\n",
            "19/19 [==============================] - ETA: 0s - loss: 0.1725 - accuracy: 0.9284\n",
            "Epoch 122: saving model to model/keypoint_classifier\\keypoint_classifier.hdf5\n",
            "19/19 [==============================] - 0s 7ms/step - loss: 0.1725 - accuracy: 0.9284 - val_loss: 0.0725 - val_accuracy: 0.9871\n",
            "Epoch 123/1000\n",
            " 1/19 [>.............................] - ETA: 0s - loss: 0.1762 - accuracy: 0.9453\n",
            "Epoch 123: saving model to model/keypoint_classifier\\keypoint_classifier.hdf5\n",
            "19/19 [==============================] - 0s 6ms/step - loss: 0.1675 - accuracy: 0.9371 - val_loss: 0.0676 - val_accuracy: 0.9884\n",
            "Epoch 124/1000\n",
            " 1/19 [>.............................] - ETA: 0s - loss: 0.1205 - accuracy: 0.9609\n",
            "Epoch 124: saving model to model/keypoint_classifier\\keypoint_classifier.hdf5\n",
            "19/19 [==============================] - 0s 6ms/step - loss: 0.1689 - accuracy: 0.9362 - val_loss: 0.0705 - val_accuracy: 0.9884\n",
            "Epoch 125/1000\n",
            "18/19 [===========================>..] - ETA: 0s - loss: 0.1768 - accuracy: 0.9293\n",
            "Epoch 125: saving model to model/keypoint_classifier\\keypoint_classifier.hdf5\n",
            "19/19 [==============================] - 0s 8ms/step - loss: 0.1783 - accuracy: 0.9289 - val_loss: 0.0701 - val_accuracy: 0.9871\n",
            "Epoch 126/1000\n",
            " 1/19 [>.............................] - ETA: 0s - loss: 0.1689 - accuracy: 0.9219\n",
            "Epoch 126: saving model to model/keypoint_classifier\\keypoint_classifier.hdf5\n",
            "19/19 [==============================] - 0s 7ms/step - loss: 0.1668 - accuracy: 0.9302 - val_loss: 0.0697 - val_accuracy: 0.9884\n",
            "Epoch 127/1000\n",
            " 9/19 [=============>................] - ETA: 0s - loss: 0.2077 - accuracy: 0.9167\n",
            "Epoch 127: saving model to model/keypoint_classifier\\keypoint_classifier.hdf5\n",
            "19/19 [==============================] - 0s 10ms/step - loss: 0.1804 - accuracy: 0.9289 - val_loss: 0.0683 - val_accuracy: 0.9871\n",
            "Epoch 128/1000\n",
            "19/19 [==============================] - ETA: 0s - loss: 0.1650 - accuracy: 0.9276\n",
            "Epoch 128: saving model to model/keypoint_classifier\\keypoint_classifier.hdf5\n",
            "19/19 [==============================] - 0s 7ms/step - loss: 0.1650 - accuracy: 0.9276 - val_loss: 0.0670 - val_accuracy: 0.9871\n",
            "Epoch 129/1000\n",
            "19/19 [==============================] - ETA: 0s - loss: 0.1648 - accuracy: 0.9328\n",
            "Epoch 129: saving model to model/keypoint_classifier\\keypoint_classifier.hdf5\n",
            "19/19 [==============================] - 0s 7ms/step - loss: 0.1648 - accuracy: 0.9328 - val_loss: 0.0710 - val_accuracy: 0.9871\n",
            "Epoch 130/1000\n",
            " 1/19 [>.............................] - ETA: 0s - loss: 0.2137 - accuracy: 0.9297\n",
            "Epoch 130: saving model to model/keypoint_classifier\\keypoint_classifier.hdf5\n",
            "19/19 [==============================] - 0s 7ms/step - loss: 0.1691 - accuracy: 0.9315 - val_loss: 0.0714 - val_accuracy: 0.9871\n",
            "Epoch 131/1000\n",
            " 1/19 [>.............................] - ETA: 0s - loss: 0.1909 - accuracy: 0.9297\n",
            "Epoch 131: saving model to model/keypoint_classifier\\keypoint_classifier.hdf5\n",
            "19/19 [==============================] - 0s 6ms/step - loss: 0.1629 - accuracy: 0.9362 - val_loss: 0.0703 - val_accuracy: 0.9871\n",
            "Epoch 132/1000\n",
            "19/19 [==============================] - ETA: 0s - loss: 0.1813 - accuracy: 0.9267\n",
            "Epoch 132: saving model to model/keypoint_classifier\\keypoint_classifier.hdf5\n",
            "19/19 [==============================] - 0s 7ms/step - loss: 0.1813 - accuracy: 0.9267 - val_loss: 0.0732 - val_accuracy: 0.9871\n",
            "Epoch 133/1000\n",
            " 1/19 [>.............................] - ETA: 0s - loss: 0.1455 - accuracy: 0.9531\n",
            "Epoch 133: saving model to model/keypoint_classifier\\keypoint_classifier.hdf5\n",
            "19/19 [==============================] - 0s 7ms/step - loss: 0.1589 - accuracy: 0.9345 - val_loss: 0.0725 - val_accuracy: 0.9871\n",
            "Epoch 134/1000\n",
            "17/19 [=========================>....] - ETA: 0s - loss: 0.1784 - accuracy: 0.9283\n",
            "Epoch 134: saving model to model/keypoint_classifier\\keypoint_classifier.hdf5\n",
            "19/19 [==============================] - 0s 9ms/step - loss: 0.1740 - accuracy: 0.9306 - val_loss: 0.0725 - val_accuracy: 0.9845\n",
            "Epoch 135/1000\n",
            "19/19 [==============================] - ETA: 0s - loss: 0.1715 - accuracy: 0.9336\n",
            "Epoch 135: saving model to model/keypoint_classifier\\keypoint_classifier.hdf5\n",
            "19/19 [==============================] - 0s 7ms/step - loss: 0.1715 - accuracy: 0.9336 - val_loss: 0.0684 - val_accuracy: 0.9871\n",
            "Epoch 136/1000\n",
            "19/19 [==============================] - ETA: 0s - loss: 0.1711 - accuracy: 0.9280\n",
            "Epoch 136: saving model to model/keypoint_classifier\\keypoint_classifier.hdf5\n",
            "19/19 [==============================] - 0s 7ms/step - loss: 0.1711 - accuracy: 0.9280 - val_loss: 0.0695 - val_accuracy: 0.9871\n",
            "Epoch 137/1000\n",
            "19/19 [==============================] - ETA: 0s - loss: 0.1639 - accuracy: 0.9371\n",
            "Epoch 137: saving model to model/keypoint_classifier\\keypoint_classifier.hdf5\n",
            "19/19 [==============================] - 0s 8ms/step - loss: 0.1639 - accuracy: 0.9371 - val_loss: 0.0671 - val_accuracy: 0.9884\n",
            "Epoch 138/1000\n",
            "16/19 [========================>.....] - ETA: 0s - loss: 0.1668 - accuracy: 0.9370\n",
            "Epoch 138: saving model to model/keypoint_classifier\\keypoint_classifier.hdf5\n",
            "19/19 [==============================] - 0s 8ms/step - loss: 0.1687 - accuracy: 0.9345 - val_loss: 0.0703 - val_accuracy: 0.9871\n",
            "Epoch 139/1000\n",
            " 1/19 [>.............................] - ETA: 0s - loss: 0.2022 - accuracy: 0.9219\n",
            "Epoch 139: saving model to model/keypoint_classifier\\keypoint_classifier.hdf5\n",
            "19/19 [==============================] - 0s 6ms/step - loss: 0.1644 - accuracy: 0.9332 - val_loss: 0.0721 - val_accuracy: 0.9871\n",
            "Epoch 140/1000\n",
            " 1/19 [>.............................] - ETA: 0s - loss: 0.1611 - accuracy: 0.9297\n",
            "Epoch 140: saving model to model/keypoint_classifier\\keypoint_classifier.hdf5\n",
            "19/19 [==============================] - 0s 6ms/step - loss: 0.1741 - accuracy: 0.9315 - val_loss: 0.0731 - val_accuracy: 0.9858\n",
            "Epoch 141/1000\n",
            "15/19 [======================>.......] - ETA: 0s - loss: 0.1611 - accuracy: 0.9307\n",
            "Epoch 141: saving model to model/keypoint_classifier\\keypoint_classifier.hdf5\n",
            "19/19 [==============================] - 0s 10ms/step - loss: 0.1634 - accuracy: 0.9310 - val_loss: 0.0786 - val_accuracy: 0.9832\n",
            "Epoch 142/1000\n",
            " 1/19 [>.............................] - ETA: 0s - loss: 0.1117 - accuracy: 0.9453\n",
            "Epoch 142: saving model to model/keypoint_classifier\\keypoint_classifier.hdf5\n",
            "19/19 [==============================] - 0s 6ms/step - loss: 0.1549 - accuracy: 0.9375 - val_loss: 0.0728 - val_accuracy: 0.9832\n",
            "Epoch 143/1000\n",
            " 1/19 [>.............................] - ETA: 0s - loss: 0.1512 - accuracy: 0.9531\n",
            "Epoch 143: saving model to model/keypoint_classifier\\keypoint_classifier.hdf5\n",
            "19/19 [==============================] - 0s 7ms/step - loss: 0.1618 - accuracy: 0.9358 - val_loss: 0.0693 - val_accuracy: 0.9884\n",
            "Epoch 144/1000\n",
            "17/19 [=========================>....] - ETA: 0s - loss: 0.1600 - accuracy: 0.9324\n",
            "Epoch 144: saving model to model/keypoint_classifier\\keypoint_classifier.hdf5\n",
            "19/19 [==============================] - 0s 11ms/step - loss: 0.1616 - accuracy: 0.9315 - val_loss: 0.0712 - val_accuracy: 0.9871\n",
            "Epoch 145/1000\n",
            "19/19 [==============================] - ETA: 0s - loss: 0.1679 - accuracy: 0.9323\n",
            "Epoch 145: saving model to model/keypoint_classifier\\keypoint_classifier.hdf5\n",
            "19/19 [==============================] - 0s 8ms/step - loss: 0.1679 - accuracy: 0.9323 - val_loss: 0.0702 - val_accuracy: 0.9858\n",
            "Epoch 146/1000\n",
            " 1/19 [>.............................] - ETA: 0s - loss: 0.1042 - accuracy: 0.9766\n",
            "Epoch 146: saving model to model/keypoint_classifier\\keypoint_classifier.hdf5\n",
            "19/19 [==============================] - 0s 7ms/step - loss: 0.1801 - accuracy: 0.9328 - val_loss: 0.0757 - val_accuracy: 0.9858\n",
            "Epoch 147/1000\n",
            " 1/19 [>.............................] - ETA: 0s - loss: 0.1933 - accuracy: 0.9219\n",
            "Epoch 147: saving model to model/keypoint_classifier\\keypoint_classifier.hdf5\n",
            "19/19 [==============================] - 0s 7ms/step - loss: 0.1663 - accuracy: 0.9319 - val_loss: 0.0750 - val_accuracy: 0.9858\n",
            "Epoch 148/1000\n",
            "17/19 [=========================>....] - ETA: 0s - loss: 0.1755 - accuracy: 0.9283\n",
            "Epoch 148: saving model to model/keypoint_classifier\\keypoint_classifier.hdf5\n",
            "19/19 [==============================] - 0s 8ms/step - loss: 0.1752 - accuracy: 0.9284 - val_loss: 0.0794 - val_accuracy: 0.9819\n",
            "Epoch 148: early stopping\n"
          ]
        },
        {
          "data": {
            "text/plain": [
              "<keras.callbacks.History at 0x1b5fce41608>"
            ]
          },
          "execution_count": 33,
          "metadata": {},
          "output_type": "execute_result"
        }
      ],
      "source": [
        "model.fit(\n",
        "    X_train,\n",
        "    y_train,\n",
        "    epochs=1000,\n",
        "    batch_size=128,\n",
        "    validation_data=(X_test, y_test),\n",
        "    callbacks=[cp_callback, es_callback]\n",
        ")"
      ]
    },
    {
      "cell_type": "code",
      "execution_count": 34,
      "metadata": {
        "colab": {
          "base_uri": "https://localhost:8080/"
        },
        "id": "pxvb2Y299hE3",
        "outputId": "59eb3185-2e37-4b9e-bc9d-ab1b8ac29b7f"
      },
      "outputs": [
        {
          "name": "stdout",
          "output_type": "stream",
          "text": [
            "7/7 [==============================] - 0s 2ms/step - loss: 0.0794 - accuracy: 0.9819\n"
          ]
        }
      ],
      "source": [
        "# Model evaluation\n",
        "val_loss, val_acc = model.evaluate(X_test, y_test, batch_size=128)"
      ]
    },
    {
      "cell_type": "code",
      "execution_count": 35,
      "metadata": {
        "id": "RBkmDeUW9hE4"
      },
      "outputs": [],
      "source": [
        "# Loading the saved model\n",
        "model = tf.keras.models.load_model(model_save_path)"
      ]
    },
    {
      "cell_type": "code",
      "execution_count": 36,
      "metadata": {
        "colab": {
          "base_uri": "https://localhost:8080/"
        },
        "id": "tFz9Tb0I9hE4",
        "outputId": "1c3b3528-54ae-4ee2-ab04-77429211cbef"
      },
      "outputs": [
        {
          "name": "stdout",
          "output_type": "stream",
          "text": [
            "1/1 [==============================] - 0s 129ms/step\n",
            "[0.02482022 0.97517985]\n",
            "1\n"
          ]
        }
      ],
      "source": [
        "# Inference test\n",
        "predict_result = model.predict(np.array([X_test[0]]))\n",
        "print(np.squeeze(predict_result))\n",
        "print(np.argmax(np.squeeze(predict_result)))"
      ]
    },
    {
      "cell_type": "markdown",
      "metadata": {
        "id": "S3U4yNWx9hE4"
      },
      "source": [
        "# Confusion matrix"
      ]
    },
    {
      "cell_type": "code",
      "execution_count": 37,
      "metadata": {
        "colab": {
          "base_uri": "https://localhost:8080/",
          "height": 582
        },
        "id": "AP1V6SCk9hE5",
        "outputId": "08e41a80-7a4a-4619-8125-ecc371368d19"
      },
      "outputs": [
        {
          "name": "stdout",
          "output_type": "stream",
          "text": [
            "25/25 [==============================] - 0s 1ms/step\n"
          ]
        },
        {
          "data": {
            "image/png": "[encoded data removed]",
            "text/plain": [
              "<Figure size 700x600 with 2 Axes>"
            ]
          },
          "metadata": {},
          "output_type": "display_data"
        },
        {
          "name": "stdout",
          "output_type": "stream",
          "text": [
            "Classification Report\n",
            "              precision    recall  f1-score   support\n",
            "\n",
            "           0       0.97      1.00      0.98       395\n",
            "           1       1.00      0.96      0.98       379\n",
            "\n",
            "    accuracy                           0.98       774\n",
            "   macro avg       0.98      0.98      0.98       774\n",
            "weighted avg       0.98      0.98      0.98       774\n",
            "\n"
          ]
        }
      ],
      "source": [
        "import pandas as pd\n",
        "import seaborn as sns\n",
        "import matplotlib.pyplot as plt\n",
        "from sklearn.metrics import confusion_matrix, classification_report\n",
        "\n",
        "def print_confusion_matrix(y_true, y_pred, report=True):\n",
        "    labels = sorted(list(set(y_true)))\n",
        "    cmx_data = confusion_matrix(y_true, y_pred, labels=labels)\n",
        "    \n",
        "    df_cmx = pd.DataFrame(cmx_data, index=labels, columns=labels)\n",
        " \n",
        "    fig, ax = plt.subplots(figsize=(7, 6))\n",
        "    sns.heatmap(df_cmx, annot=True, fmt='g' ,square=False)\n",
        "    ax.set_ylim(len(set(y_true)), 0)\n",
        "    plt.show()\n",
        "    \n",
        "    if report:\n",
        "        print('Classification Report')\n",
        "        print(classification_report(y_test, y_pred))\n",
        "\n",
        "Y_pred = model.predict(X_test)\n",
        "y_pred = np.argmax(Y_pred, axis=1)\n",
        "\n",
        "print_confusion_matrix(y_test, y_pred)"
      ]
    },
    {
      "cell_type": "markdown",
      "metadata": {
        "id": "FNP6aqzc9hE5"
      },
      "source": [
        "# Convert to model for Tensorflow-Lite"
      ]
    },
    {
      "cell_type": "code",
      "execution_count": 38,
      "metadata": {
        "id": "ODjnYyld9hE6"
      },
      "outputs": [],
      "source": [
        "# Save as a model dedicated to inference\n",
        "model.save(model_save_path, include_optimizer=False)"
      ]
    },
    {
      "cell_type": "code",
      "execution_count": 39,
      "metadata": {
        "colab": {
          "base_uri": "https://localhost:8080/"
        },
        "id": "zRfuK8Y59hE6",
        "outputId": "a4ca585c-b5d5-4244-8291-8674063209bb"
      },
      "outputs": [
        {
          "name": "stdout",
          "output_type": "stream",
          "text": [
            "INFO:tensorflow:Assets written to: C:\\Users\\PAULOP~1\\AppData\\Local\\Temp\\tmpnmzmni28\\assets\n"
          ]
        },
        {
          "data": {
            "text/plain": [
              "6484"
            ]
          },
          "execution_count": 39,
          "metadata": {},
          "output_type": "execute_result"
        }
      ],
      "source": [
        "# Transform model (quantization)\n",
        "\n",
        "converter = tf.lite.TFLiteConverter.from_keras_model(model)\n",
        "converter.optimizations = [tf.lite.Optimize.DEFAULT]\n",
        "tflite_quantized_model = converter.convert()\n",
        "\n",
        "open(tflite_save_path, 'wb').write(tflite_quantized_model)"
      ]
    },
    {
      "cell_type": "markdown",
      "metadata": {
        "id": "CHBPBXdx9hE6"
      },
      "source": [
        "# Inference test"
      ]
    },
    {
      "cell_type": "code",
      "execution_count": 40,
      "metadata": {
        "id": "mGAzLocO9hE7"
      },
      "outputs": [],
      "source": [
        "interpreter = tf.lite.Interpreter(model_path=tflite_save_path)\n",
        "interpreter.allocate_tensors()"
      ]
    },
    {
      "cell_type": "code",
      "execution_count": 41,
      "metadata": {
        "id": "oQuDK8YS9hE7"
      },
      "outputs": [],
      "source": [
        "# Get I / O tensor\n",
        "input_details = interpreter.get_input_details()\n",
        "output_details = interpreter.get_output_details()"
      ]
    },
    {
      "cell_type": "code",
      "execution_count": 42,
      "metadata": {
        "id": "2_ixAf_l9hE7"
      },
      "outputs": [],
      "source": [
        "interpreter.set_tensor(input_details[0]['index'], np.array([X_test[0]]))"
      ]
    },
    {
      "cell_type": "code",
      "execution_count": 43,
      "metadata": {
        "colab": {
          "base_uri": "https://localhost:8080/"
        },
        "id": "s4FoAnuc9hE7",
        "outputId": "91f18257-8d8b-4ef3-c558-e9b5f94fabbf",
        "scrolled": true
      },
      "outputs": [
        {
          "name": "stdout",
          "output_type": "stream",
          "text": [
            "Wall time: 0 ns\n"
          ]
        }
      ],
      "source": [
        "%%time\n",
        "# Inference implementation\n",
        "interpreter.invoke()\n",
        "tflite_results = interpreter.get_tensor(output_details[0]['index'])"
      ]
    },
    {
      "cell_type": "code",
      "execution_count": 44,
      "metadata": {
        "colab": {
          "base_uri": "https://localhost:8080/"
        },
        "id": "vONjp19J9hE8",
        "outputId": "77205e24-fd00-42c4-f7b6-e06e527c2cba"
      },
      "outputs": [
        {
          "name": "stdout",
          "output_type": "stream",
          "text": [
            "[0.02482019 0.97517985]\n",
            "1\n"
          ]
        }
      ],
      "source": [
        "print(np.squeeze(tflite_results))\n",
        "print(np.argmax(np.squeeze(tflite_results)))"
      ]
    }
  ],
  "metadata": {
    "accelerator": "GPU",
    "colab": {
      "collapsed_sections": [],
      "name": "keypoint_classification_EN.ipynb",
      "provenance": [],
      "toc_visible": true
    },
    "kernelspec": {
      "display_name": "Python 3",
      "language": "python",
      "name": "python3"
    },
    "language_info": {
      "codemirror_mode": {
        "name": "ipython",
        "version": 3
      },
      "file_extension": ".py",
      "mimetype": "text/x-python",
      "name": "python",
      "nbconvert_exporter": "python",
      "pygments_lexer": "ipython3",
      "version": "3.7.6"
    }
  },
  "nbformat": 4,
  "nbformat_minor": 0
}
